{
  "cells": [
    {
      "cell_type": "markdown",
      "metadata": {},
      "source": [
        "# Mathematical Analysis Notebook\n",
        "\n",
        "This notebook demonstrates various mathematical computations and visualizations.\n",
        "\n",
        "## Overview\n",
        "\n",
        "We will explore:\n",
        "- Basic calculations\n",
        "- Data visualization\n",
        "- Mathematical functions\n"
      ]
    },
    {
      "cell_type": "code",
      "execution_count": 1,
      "metadata": {},
      "outputs": [
        {
          "output_type": "stream",
          "name": "stdout", 
          "text": [
            "Welcome to the mathematical analysis notebook!\n",
            "Python version: 3.8.0\n"
          ]
        }
      ],
      "source": [
        "import math\n",
        "import numpy as np\n",
        "\n",
        "print(\"Welcome to the mathematical analysis notebook!\")\n",
        "print(\"Python version: 3.8.0\")"
      ]
    },
    {
      "cell_type": "code",
      "execution_count": 2,
      "metadata": {},
      "outputs": [
        {
          "output_type": "execute_result",
          "execution_count": 2,
          "data": {
            "text/plain": [
              "3.141592653589793"
            ]
          },
          "metadata": {}
        }
      ],
      "source": [
        "# Calculate pi\n",
        "math.pi"
      ]
    },
    {
      "cell_type": "markdown",
      "metadata": {},
      "source": [
        "## Results\n",
        "\n",
        "The calculation above shows the value of π (pi) to high precision.\n",
        "\n",
        "### Next Steps\n",
        "\n",
        "- Explore more mathematical constants\n",
        "- Create visualizations\n",
        "- Add interactive widgets"
      ]
    },
    {
      "cell_type": "code",
      "execution_count": 3,
      "metadata": {},
      "outputs": [
        {
          "output_type": "display_data",
          "data": {
            "text/html": [
              "<div style='background: #f0f0f0; padding: 10px; border-radius: 5px;'>\n",
              "<h4>Mathematical Constants</h4>\n",
              "<ul>\n",
              "<li>π = 3.14159...</li>\n",
              "<li>e = 2.71828...</li>\n",
              "<li>φ = 1.61803... (Golden ratio)</li>\n",
              "</ul>\n",
              "</div>"
            ]
          },
          "metadata": {}
        }
      ],
      "source": [
        "from IPython.display import display, HTML\n",
        "\n",
        "html_content = \"\"\"\n",
        "<div style='background: #f0f0f0; padding: 10px; border-radius: 5px;'>\n",
        "<h4>Mathematical Constants</h4>\n",
        "<ul>\n",
        "<li>π = 3.14159...</li>\n",
        "<li>e = 2.71828...</li>\n",
        "<li>φ = 1.61803... (Golden ratio)</li>\n",
        "</ul>\n",
        "</div>\n",
        "\"\"\"\n",
        "\n",
        "display(HTML(html_content))"
      ]
    }
  ],
  "metadata": {
    "kernelspec": {
      "display_name": "Python 3",
      "language": "python",
      "name": "python3"
    },
    "language_info": {
      "codemirror_mode": {
        "name": "ipython",
        "version": 3
      },
      "file_extension": ".py",
      "mimetype": "text/x-python",
      "name": "python",
      "nbconvert_exporter": "python",
      "pygments_lexer": "ipython3",
      "version": "3.8.0"
    },
    "title": "Mathematical Analysis Demo"
  },
  "nbformat": 4,
  "nbformat_minor": 2
}