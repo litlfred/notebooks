{
 "cells": [
  {
   "cell_type": "markdown",
   "metadata": {},
   "source": [
    "# Test Jupyter Notebook Import\n\nThis is a sample notebook to test the import functionality.\n\n## Features to test:\n- **Markdown rendering** with LaTeX: $E = mc^2$\n- Cell attachments support\n- Sequential connections between cells"
   ]
  },
  {
   "cell_type": "code",
   "execution_count": 1,
   "metadata": {},
   "outputs": [
    {
     "name": "stdout",
     "output_type": "stream",
     "text": [
      "Hello from imported Jupyter notebook!\n",
      "Testing code cell import with output rendering.\n"
     ]
    }
   ],
   "source": [
    "# Test code cell\nimport numpy as np\nimport matplotlib.pyplot as plt\n\nprint('Hello from imported Jupyter notebook!')\nprint('Testing code cell import with output rendering.')\n\n# Generate some sample data\nx = np.linspace(0, 2*np.pi, 100)\ny = np.sin(x)\n\nresult = {'x_values': len(x), 'y_range': [y.min(), y.max()]}\nprint(f'Generated {len(x)} data points')\nprint(f'Y range: [{y.min():.3f}, {y.max():.3f}]')"
   ]
  },
  {
   "cell_type": "code",
   "execution_count": 2,
   "metadata": {},
   "outputs": [
    {
     "data": {
      "text/html": [
       "<div style='background: #f0f8ff; padding: 10px; border-radius: 5px;'>\n",
       "<h3>Rich HTML Output Test</h3>\n",
       "<p>This tests HTML output rendering in imported notebooks.</p>\n",
       "<ul>\n",
       "<li><strong>Bold text</strong></li>\n",
       "<li><em>Italic text</em></li>\n",
       "<li><code>Code snippet</code></li>\n",
       "</ul>\n",
       "</div>"
      ],
      "text/plain": [
       "<IPython.core.display.HTML object>"
      ]
     },
     "execution_count": 2,
     "metadata": {},
     "output_type": "execute_result"
    }
   ],
   "source": [
    "# Test rich output rendering\nfrom IPython.display import HTML\n\nhtml_content = \"\"\"\n<div style='background: #f0f8ff; padding: 10px; border-radius: 5px;'>\n<h3>Rich HTML Output Test</h3>\n<p>This tests HTML output rendering in imported notebooks.</p>\n<ul>\n<li><strong>Bold text</strong></li>\n<li><em>Italic text</em></li>\n<li><code>Code snippet</code></li>\n</ul>\n</div>\n\"\"\"\n\nHTML(html_content)"
   ]
  },
  {
   "cell_type": "raw",
   "metadata": {
    "format": "html"
   },
   "source": [
    "<h2>Raw HTML Cell Test</h2>\n<p>This is a raw cell with HTML format that should be rendered appropriately.</p>\n<div style=\"background: #ffe6e6; padding: 10px; border: 1px solid #ff9999;\">\n    <strong>Note:</strong> Raw cells preserve formatting without execution.\n</div>"
   ]
  },
  {
   "cell_type": "markdown",
   "metadata": {},
   "source": [
    "## Final Notes\n\nThis notebook demonstrates:\n1. Multiple cell types (markdown, code, raw)\n2. Rich output formats (text, HTML)\n3. Sequential cell organization\n4. LaTeX math: $\\int_{-\\infty}^{\\infty} e^{-x^2} dx = \\sqrt{\\pi}$\n\nWhen imported, each cell should become a widget with proper connections."
   ]
  }
 ],
 "metadata": {
  "kernelspec": {
   "display_name": "Python 3",
   "language": "python",
   "name": "python3"
  },
  "language_info": {
   "codemirror_mode": {
    "name": "ipython",
    "version": 3
   },
   "file_extension": ".py",
   "mimetype": "text/x-python",
   "name": "python",
   "nbconvert_exporter": "python",
   "pygments_lexer": "ipython3",
   "version": "3.8.5"
  }
 },
 "nbformat": 4,
 "nbformat_minor": 4
}