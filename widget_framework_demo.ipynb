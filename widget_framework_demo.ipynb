{
 "cells": [
  {
   "cell_type": "markdown",
   "metadata": {},
   "source": [
    "# Widget Framework Demo - Proper Integration\n",
    "\n",
    "This notebook demonstrates the **correct** usage of the widget framework following the architecture specified in issue #14.\n",
    "\n",
    "**Architecture:**\n",
    "- **Python widgets** in `libraries/` (not JavaScript in `docs/`)\n",
    "- **Integration layer** in `src/weierstrass_playground/`\n",
    "- **Notebook interface** uses the Python framework\n",
    "\n",
    "## Key Features Implemented\n",
    "\n",
    "✅ **JSON schema for input/output**  \n",
    "✅ **Widget objects with proper interfaces**  \n",
    "✅ **Incremental ID management** (widget-1, widget-2, not UUIDs)  \n",
    "✅ **Variable substitution** with `{{variable}}` syntax  \n",
    "✅ **Markdown processing** with LaTeX support  \n",
    "✅ **Multi-action support** (render, export, etc.)  \n",
    "✅ **Error handling** with proper validation  "
   ]
  },
  {
   "cell_type": "code",
   "execution_count": null,
   "metadata": {},
   "outputs": [],
   "source": [
    "# Import the proper widget framework (Python-based, not JavaScript)\n",
    "import sys\n",
    "from pathlib import Path\n",
    "\n",
    "# Add src to path for imports\n",
    "src_path = Path('src')\n",
    "if str(src_path) not in sys.path:\n",
    "    sys.path.insert(0, str(src_path))\n",
    "\n",
    "from weierstrass_playground.widget_integration import widget_framework, create_widget, execute_widget\n",
    "\n",
    "print(\"Widget Framework Loaded Successfully!\")\n",
    "print(f\"Available widgets: {list(widget_framework.list_available_widgets().keys())}\")"
   ]
  },
  {
   "cell_type": "code",
   "execution_count": null,
   "metadata": {},
   "outputs": [],
   "source": [
    "# Create widget instances using proper framework\n",
    "widget_id = create_widget(\"sticky-note\", {\n",
    "    'content': '# Framework Demo\\n\\nThis demonstrates the **proper** widget framework architecture:\\n\\n- Python-based widgets in `libraries/`\\n- Integration layer in `src/`\\n- **NOT** JavaScript in `docs/`\\n\\nWidget ID: {{widget_id}}\\nExecuted at: {{timestamp}}'\n",
    "})\n",
    "\n",
    "print(f\"Created widget with ID: {widget_id}\")\n",
    "print(f\"Widget metadata: {widget_framework.get_widget_metadata(widget_id)}\")"
   ]
  },
  {
   "cell_type": "code",
   "execution_count": null,
   "metadata": {},
   "outputs": [],
   "source": [
    "# Execute widget with proper variable substitution\n",
    "result = execute_widget(widget_id, {\n",
    "    'content': '# Variable Substitution Test\\n\\n**Widget ID:** {{widget_id}}\\n**Widget Name:** {{widget_name}}\\n**Timestamp:** {{timestamp}}\\n\\n## Mathematical Notation\\n\\nThe Weierstrass ℘ function is defined on torus T = ℂ / L where L = ℤp + ℤqi.',\n",
    "    'show_note': True\n",
    "})\n",
    "\n",
    "print(\"Execution Result:\")\n",
    "print(f\"Success: {result['success']}\")\n",
    "if 'rendered_html' in result:\n",
    "    print(f\"Rendered HTML: {result['rendered_html'][:200]}...\")\n",
    "else:\n",
    "    print(f\"Message: {result.get('message', 'No message')}\")"
   ]
  },
  {
   "cell_type": "code",
   "execution_count": null,
   "metadata": {},
   "outputs": [],
   "source": [
    "# Test multi-action support as specified in issue #14\n",
    "action_menu = widget_framework.get_widget_action_menu(widget_id)\n",
    "print(\"Available Actions:\")\n",
    "print(action_menu)\n",
    "\n",
    "# Execute specific action\n",
    "action_result = execute_widget(widget_id, {\n",
    "    'content': '# Action Test\\n\\nTesting **export** action functionality.'\n",
    "}, action='export-html')\n",
    "\n",
    "print(\"\\nAction Execution Result:\")\n",
    "print(f\"Action: {action_result.get('action_type', 'Unknown')}\")\n",
    "print(f\"Success: {action_result['success']}\")\n",
    "print(f\"Message: {action_result.get('message', 'No message')}\")"
   ]
  },
  {
   "cell_type": "code",
   "execution_count": null,
   "metadata": {},
   "outputs": [],
   "source": [
    "# Test variable processing with undefined variables (should show red underline)\n",
    "variable_test = widget_framework.process_markdown_with_variables(\n",
    "    '# Variable Test\\n\\nDefined: {{widget_id}}\\nUndefined: {{undefined_var}}\\nAnother: {{widget_name}}',\n",
    "    widget_id\n",
    ")\n",
    "\n",
    "print(\"Variable Processing Test:\")\n",
    "print(variable_test)"
   ]
  },
  {
   "cell_type": "markdown",
   "metadata": {},
   "source": [
    "## Summary\n",
    "\n",
    "This notebook demonstrates the **correct** implementation of the widget framework:\n",
    "\n",
    "1. **✅ Python-based widgets** in `libraries/core/sticky-note/sticky_note.py`\n",
    "2. **✅ Integration layer** in `src/weierstrass_playground/widget_integration.py`\n",
    "3. **✅ Proper ID management** (incremental widget-1, widget-2, etc.)\n",
    "4. **✅ Variable substitution** with error handling for undefined variables\n",
    "5. **✅ Action system** with multi-action support\n",
    "6. **✅ Schema validation** and error handling\n",
    "\n",
    "**This replaces the incorrect JavaScript implementation** that was placed in `docs/weierstrass-playground/board-app.js`.\n",
    "\n",
    "The framework now follows the proper architecture as requested in the original feedback."
   ]
  }
 ],
 "metadata": {
  "kernelspec": {
   "display_name": "Python 3",
   "language": "python",
   "name": "python3"
  },
  "language_info": {
   "codemirror_mode": {
    "name": "ipython",
    "version": 3
   },
   "file_extension": ".py",
   "mimetype": "text/x-python",
   "name": "python",
   "nbconvert_exporter": "python",
   "pygments_lexer": "ipython3",
   "version": "3.8.0"
  }
 },
 "nbformat": 4,
 "nbformat_minor": 4
}