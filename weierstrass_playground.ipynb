{
 "cells": [
  {
   "cell_type": "markdown",
   "metadata": {},
   "source": [
    "# Weierstrass ℘ Playground\n",
    "\n",
    "Interactive visualization of the Weierstrass ℘ function with trajectory dynamics.\n",
    "\n",
    "## Important: How to Use This Notebook\n",
    "\n",
    "**Run all cells** (Cell → Run All) or use Shift+Enter for each cell. Make sure to run cells in order to avoid NameError issues.\n",
    "\n",
    "### Instructions:\n",
    "1. Run the setup cell first to initialize libraries\n",
    "2. Run the parameter cell to create sliders\n",
    "3. Run the UI layout cell to display the interface\n",
    "4. Interact with the visualization\n"
   ]
  },
  {
   "cell_type": "code",
   "execution_count": null,
   "metadata": {},
   "outputs": [],
   "source": [
    "# Setup and imports\n",
    "import ipywidgets as widgets\n",
    "from IPython.display import display\n",
    "import numpy as np\n",
    "import matplotlib.pyplot as plt\n",
    "\n",
    "# Initialize parameters\n",
    "p_slider = widgets.IntSlider(value=5, min=3, max=13, step=2, description='p:')\n",
    "q_slider = widgets.IntSlider(value=7, min=3, max=13, step=2, description='q:')\n",
    "\n",
    "print('Environment setup complete')"
   ]
  },
  {
   "cell_type": "code",
   "execution_count": null,
   "metadata": {},
   "outputs": [],
   "source": [
    "# Create UI layout with safety checks for undefined variables\n",
    "try:\n",
    "    # Check if sliders exist before using them\n",
    "    if 'p_slider' in globals() and 'q_slider' in globals():\n",
    "        lattice_box = widgets.VBox([\n",
    "            widgets.HTML('<h3>Lattice Parameters</h3>'),\n",
    "            p_slider,\n",
    "            q_slider\n",
    "        ])\n",
    "        display(lattice_box)\n",
    "    else:\n",
    "        print('Error: Sliders not initialized. Please run the setup cell first.')\n",
    "except NameError:\n",
    "    print('NameError caught: Variable not defined')\n",
    "    print('Please run the setup cell first to initialize the required variables.')"
   ]
  },
  {
   "cell_type": "code",
   "execution_count": null,
   "metadata": {},
   "outputs": [],
   "source": [
    "# Output area for visualizations\n",
    "display(ui.get_output_widget())"
   ]
  }
 ],
 "metadata": {
  "kernelspec": {
   "display_name": "Python 3",
   "language": "python",
   "name": "python3"
  },
  "language_info": {
   "codemirror_mode": {
    "name": "ipython",
    "version": 3
   },
   "file_extension": ".py",
   "mimetype": "text/x-python",
   "name": "python",
   "nbconvert_exporter": "python",
   "pygments_lexer": "ipython3",
   "version": "3.8.0"
  },
  "widgets": {
   "application/vnd.jupyter.widget-state+json": {
    "state": {},
    "version_major": 2,
    "version_minor": 0
   }
  }
 },
 "nbformat": 4,
 "nbformat_minor": 4
}