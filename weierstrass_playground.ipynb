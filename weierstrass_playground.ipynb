{
 "cells": [
  {
   "cell_type": "markdown",
   "metadata": {},
   "source": [
    "# Weierstrass ℘ Playground — Interactive Trajectory Visualization\n",
    "\n",
    "This notebook visualizes complex fields derived from the Weierstrass ℘ function on a rectangular lattice and overlays shared second-order trajectories. Choose between:\n",
    "\n",
    "- **Two-panel mode**: ℘(z) and ℘′(z) with color mapping\n",
    "- **Three-panel mode**: ℘(z), Re(℘′(z)), and Im(℘′(z)) with grayscale\n",
    "- **Trajectories**: Follow the second-order ODE z''(t) = -℘(z(t)) z(t)\n",
    "\n",
    "## Important: How to Use This Notebook\n",
    "\n",
    "**To avoid errors, please run all cells in order from top to bottom.** \n",
    "\n",
    "You can either:\n",
    "1. Use **Cell → Run All** from the menu, or\n",
    "2. Run each cell individually using **Shift+Enter**\n",
    "\n",
    "## Setup and Imports"
   ]
  },
  {
   "cell_type": "code",
   "execution_count": null,
   "metadata": {},
   "outputs": [],
   "source": [
    "import numpy as np\n",
    "import matplotlib.pyplot as plt\n",
    "import warnings\n",
    "warnings.filterwarnings('ignore')\n",
    "\n",
    "# Import our libraries\n",
    "from weierstrass_lib import *\n",
    "from weierstrass_ui import create_ui\n",
    "\n",
    "# Set matplotlib to inline mode\n",
    "%matplotlib inline\n",
    "\n",
    "# Configure matplotlib for high quality plots\n",
    "plt.rcParams['figure.dpi'] = 100\n",
    "plt.rcParams['savefig.dpi'] = 300\n",
    "plt.rcParams['font.size'] = 10"
   ]
  },
  {
   "cell_type": "markdown",
   "metadata": {},
   "source": [
    "## Interactive Controls\n",
    "\n",
    "The UI and mathematical functions are now modularized in separate Python files:\n",
    "- `weierstrass_lib.py` - All mathematical computations and visualization functions\n",
    "- `weierstrass_ui.py` - All UI widgets and layout code\n",
    "\n",
    "This provides better code organization, reusability, and maintainability."
   ]
  },
  {
   "cell_type": "code",
   "execution_count": null,
   "metadata": {},
   "outputs": [],
   "source": [
    "# Create and display the UI\n",
    "ui = create_ui()\n",
    "ui.display()"
   ]
  },
  {
   "cell_type": "markdown",
   "metadata": {},
   "source": [
    "## Output Area\n",
    "\n",
    "Visualization results will appear below:"
   ]
  },
  {
   "cell_type": "code",
   "execution_count": null,
   "metadata": {},
   "outputs": [],
   "source": [
    "# Display the output widget for visualizations\n",
    "display(ui.get_output_widget())"
   ]
  }
 ],
 "metadata": {
  "kernelspec": {
   "display_name": "Python 3",
   "language": "python",
   "name": "python3"
  },
  "language_info": {
   "codemirror_mode": {
    "name": "ipython",
    "version": 3
   },
   "file_extension": ".py",
   "mimetype": "text/x-python",
   "name": "python",
   "nbconvert_exporter": "python",
   "pygments_lexer": "ipython3",
   "version": "3.8.0"
  },
  "widgets": {
   "application/vnd.jupyter.widget-state+json": {
    "state": {},
    "version_major": 2,
    "version_minor": 0
   }
  }
 },
 "nbformat": 4,
 "nbformat_minor": 4
}